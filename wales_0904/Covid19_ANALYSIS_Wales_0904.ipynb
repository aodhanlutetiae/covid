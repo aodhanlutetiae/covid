{
 "cells": [
  {
   "cell_type": "markdown",
   "metadata": {},
   "source": [
    ">https://www.gov.uk/government/publications/covid-19-track-coronavirus-cases"
   ]
  },
  {
   "cell_type": "markdown",
   "metadata": {},
   "source": [
    "### import and wrangling of daily total-cases figures"
   ]
  },
  {
   "cell_type": "code",
   "execution_count": 1,
   "metadata": {},
   "outputs": [],
   "source": [
    "import pandas as pd\n",
    "import matplotlib.pyplot as plt\n",
    "import numpy as np\n",
    "\n",
    "from pandas.plotting import register_matplotlib_converters\n",
    "register_matplotlib_converters()\n",
    "\n",
    "import xlrd\n",
    "import requests\n",
    "from datetime import datetime\n",
    "\n",
    "pd.options.display.float_format = '{:.2f}'.format"
   ]
  },
  {
   "cell_type": "code",
   "execution_count": 2,
   "metadata": {},
   "outputs": [
    {
     "name": "stdout",
     "output_type": "stream",
     "text": [
      "Beginning file download with requests\n",
      "200\n",
      "application/vnd.openxmlformats-officedocument.spreadsheetml.sheet\n",
      "None\n"
     ]
    }
   ],
   "source": [
    "# download file to my covid data folder\n",
    "\n",
    "print('Beginning file download with requests')\n",
    "site = \"https://fingertips.phe.org.uk/documents/Historic%20COVID-19%20Dashboard%20Data.xlsx\"\n",
    "req = requests.get(site)\n",
    "\n",
    "with open('/Users/aidanair/Documents/DATA/ALL_DATASETS/COVID/ukgov_0904.xlsx', 'wb') as f:\n",
    "    f.write(req.content)\n",
    "    \n",
    "# Retrieve HTTP meta-data\n",
    "print(req.status_code)\n",
    "print(req.headers['content-type'])\n",
    "print(req.encoding)"
   ]
  },
  {
   "cell_type": "code",
   "execution_count": 3,
   "metadata": {},
   "outputs": [],
   "source": [
    "# To open Workbook and define the 'sheet' we're on - sheet 3 in this case\n",
    "\n",
    "path = '/Users/aidanair/Desktop/testing_dl.xlsx'\n",
    "wb = xlrd.open_workbook(path) \n",
    "sheet = wb.sheet_by_index(3) "
   ]
  },
  {
   "cell_type": "code",
   "execution_count": 21,
   "metadata": {},
   "outputs": [
    {
     "data": {
      "text/html": [
       "<div>\n",
       "<style scoped>\n",
       "    .dataframe tbody tr th:only-of-type {\n",
       "        vertical-align: middle;\n",
       "    }\n",
       "\n",
       "    .dataframe tbody tr th {\n",
       "        vertical-align: top;\n",
       "    }\n",
       "\n",
       "    .dataframe thead th {\n",
       "        text-align: right;\n",
       "    }\n",
       "</style>\n",
       "<table border=\"1\" class=\"dataframe\">\n",
       "  <thead>\n",
       "    <tr style=\"text-align: right;\">\n",
       "      <th></th>\n",
       "      <th>date</th>\n",
       "      <th>england</th>\n",
       "      <th>scotland</th>\n",
       "      <th>wales</th>\n",
       "      <th>nireland</th>\n",
       "    </tr>\n",
       "  </thead>\n",
       "  <tbody>\n",
       "    <tr>\n",
       "      <th>0</th>\n",
       "      <td>43899.00</td>\n",
       "      <td>280.00</td>\n",
       "      <td></td>\n",
       "      <td></td>\n",
       "      <td></td>\n",
       "    </tr>\n",
       "    <tr>\n",
       "      <th>1</th>\n",
       "      <td>43900.00</td>\n",
       "      <td>324.00</td>\n",
       "      <td>27.00</td>\n",
       "      <td>6.00</td>\n",
       "      <td>16.00</td>\n",
       "    </tr>\n",
       "    <tr>\n",
       "      <th>2</th>\n",
       "      <td>43901.00</td>\n",
       "      <td>387.00</td>\n",
       "      <td>36.00</td>\n",
       "      <td>15.00</td>\n",
       "      <td>18.00</td>\n",
       "    </tr>\n",
       "    <tr>\n",
       "      <th>3</th>\n",
       "      <td>43902.00</td>\n",
       "      <td>491.00</td>\n",
       "      <td>60.00</td>\n",
       "      <td>25.00</td>\n",
       "      <td>19.00</td>\n",
       "    </tr>\n",
       "    <tr>\n",
       "      <th>4</th>\n",
       "      <td>43903.00</td>\n",
       "      <td>645.00</td>\n",
       "      <td>85.00</td>\n",
       "      <td>38.00</td>\n",
       "      <td>29.00</td>\n",
       "    </tr>\n",
       "  </tbody>\n",
       "</table>\n",
       "</div>"
      ],
      "text/plain": [
       "      date england scotland wales nireland\n",
       "0 43899.00  280.00                        \n",
       "1 43900.00  324.00    27.00  6.00    16.00\n",
       "2 43901.00  387.00    36.00 15.00    18.00\n",
       "3 43902.00  491.00    60.00 25.00    19.00\n",
       "4 43903.00  645.00    85.00 38.00    29.00"
      ]
     },
     "execution_count": 21,
     "metadata": {},
     "output_type": "execute_result"
    }
   ],
   "source": [
    "# loop through the rows and build a df\n",
    "\n",
    "big_list = []\n",
    "row_counter = 7\n",
    "for x in range(5):\n",
    "    \n",
    "    col_counter = 0\n",
    "\n",
    "    small_list = []\n",
    "    \n",
    "    for x in range(33):\n",
    "        answer = sheet.cell_value(row_counter, col_counter)\n",
    "        #int(answer)\n",
    "        small_list.append(answer)\n",
    "        col_counter = col_counter + 1\n",
    "    #print(small_list)\n",
    "    \n",
    "    big_list.append(small_list)\n",
    "    row_counter = row_counter + 1\n",
    "    \n",
    "df = pd.DataFrame(big_list)\n",
    "\n",
    "# transform, name cols, drop 2 rows, reset index after dropped rows\n",
    "df = df.T\n",
    "df.columns = ['date', 'england', 'scotland', 'wales', 'nireland']\n",
    "df = df[2:]\n",
    "df = df.reset_index(drop=True)\n",
    "\n",
    "df.head()"
   ]
  },
  {
   "cell_type": "code",
   "execution_count": 22,
   "metadata": {},
   "outputs": [],
   "source": [
    "# force the country columns to int\n",
    "\n",
    "df.england = df.england.astype('Int64')\n",
    "df.england = df.england.astype('Int64')\n",
    "df.england = df.england.astype('Int64')\n",
    "df.england = df.england.astype('Int64')"
   ]
  },
  {
   "cell_type": "code",
   "execution_count": 6,
   "metadata": {},
   "outputs": [],
   "source": [
    "# define 2 functions, the second of which calls on the first\n",
    "\n",
    "def conv_excel(problem):\n",
    "    \"\"\"takes a number and converts it from a excel time nb to a pandas date. WORKS\"\"\" \n",
    "    \n",
    "    python_date = datetime(*xlrd.xldate_as_tuple(problem, 0))\n",
    "    return str(python_date)[0:10]\n",
    "\n",
    "def time_conv (col):\n",
    "    \"\"\"takes a col number and runs through it calling the conversion function for each row\"\"\"\n",
    "    date_list = []\n",
    "\n",
    "    row = 0\n",
    "    for x in range(len(df)):\n",
    "        problem = df.iat[row,col]  \n",
    "        answer = conv_excel(problem)\n",
    "        date_list.append(answer)\n",
    "        row = row + 1\n",
    "        \n",
    "    df['date_ok'] = date_list\n",
    "\n",
    "    return 'done'\n"
   ]
  },
  {
   "cell_type": "code",
   "execution_count": 23,
   "metadata": {},
   "outputs": [
    {
     "data": {
      "text/plain": [
       "'done'"
      ]
     },
     "execution_count": 23,
     "metadata": {},
     "output_type": "execute_result"
    }
   ],
   "source": [
    "# pass column 0 into the function and run it to convert the excel times to pandas times\n",
    "\n",
    "time_conv(0)"
   ]
  },
  {
   "cell_type": "code",
   "execution_count": 24,
   "metadata": {},
   "outputs": [],
   "source": [
    "# Put NaN in the first row so the population calculations will work\n",
    "\n",
    "col = (2)\n",
    "for x in range (3):\n",
    "    df.iat[0, col] = np.nan\n",
    "    col = col + 1"
   ]
  },
  {
   "cell_type": "code",
   "execution_count": 8,
   "metadata": {},
   "outputs": [],
   "source": [
    "# define the population of each nation from ONS figures\n",
    "\n",
    "eng_pop = 55_977_178\n",
    "wales_pop = 3_138_631\n",
    "scot_pop = 5_438_100\n",
    "nire_pop = 1_881_641\n",
    "\n",
    "# SOURCE https://www.ons.gov.uk/peoplepopulationandcommunity/populationandmigration/populationestimates/articles/overviewoftheukpopulation/august2019"
   ]
  },
  {
   "cell_type": "code",
   "execution_count": 25,
   "metadata": {},
   "outputs": [],
   "source": [
    "# calculate cases per million people for each of the nations and place in new column\n",
    "\n",
    "df['per_M_eng'] = (df.england / eng_pop) * 1_000_000\n",
    "df['per_M_scot'] = (df.scotland / scot_pop) * 1_000_000\n",
    "df['per_M_wales'] = (df.wales / wales_pop) * 1_000_000\n",
    "df['per_M_nire'] = (df.nireland / nire_pop) * 1_000_000"
   ]
  },
  {
   "cell_type": "code",
   "execution_count": 26,
   "metadata": {},
   "outputs": [
    {
     "data": {
      "text/html": [
       "<div>\n",
       "<style scoped>\n",
       "    .dataframe tbody tr th:only-of-type {\n",
       "        vertical-align: middle;\n",
       "    }\n",
       "\n",
       "    .dataframe tbody tr th {\n",
       "        vertical-align: top;\n",
       "    }\n",
       "\n",
       "    .dataframe thead th {\n",
       "        text-align: right;\n",
       "    }\n",
       "</style>\n",
       "<table border=\"1\" class=\"dataframe\">\n",
       "  <thead>\n",
       "    <tr style=\"text-align: right;\">\n",
       "      <th></th>\n",
       "      <th>date</th>\n",
       "      <th>england</th>\n",
       "      <th>scotland</th>\n",
       "      <th>wales</th>\n",
       "      <th>nireland</th>\n",
       "      <th>date_ok</th>\n",
       "      <th>per_M_eng</th>\n",
       "      <th>per_M_scot</th>\n",
       "      <th>per_M_wales</th>\n",
       "      <th>per_M_nire</th>\n",
       "    </tr>\n",
       "  </thead>\n",
       "  <tbody>\n",
       "    <tr>\n",
       "      <th>0</th>\n",
       "      <td>43899.00</td>\n",
       "      <td>280</td>\n",
       "      <td>NaN</td>\n",
       "      <td>NaN</td>\n",
       "      <td>NaN</td>\n",
       "      <td>2020-03-09</td>\n",
       "      <td>5.00</td>\n",
       "      <td>NaN</td>\n",
       "      <td>NaN</td>\n",
       "      <td>NaN</td>\n",
       "    </tr>\n",
       "    <tr>\n",
       "      <th>1</th>\n",
       "      <td>43900.00</td>\n",
       "      <td>324</td>\n",
       "      <td>27.00</td>\n",
       "      <td>6.00</td>\n",
       "      <td>16.00</td>\n",
       "      <td>2020-03-10</td>\n",
       "      <td>5.79</td>\n",
       "      <td>4.96</td>\n",
       "      <td>1.91</td>\n",
       "      <td>8.50</td>\n",
       "    </tr>\n",
       "    <tr>\n",
       "      <th>2</th>\n",
       "      <td>43901.00</td>\n",
       "      <td>387</td>\n",
       "      <td>36.00</td>\n",
       "      <td>15.00</td>\n",
       "      <td>18.00</td>\n",
       "      <td>2020-03-11</td>\n",
       "      <td>6.91</td>\n",
       "      <td>6.62</td>\n",
       "      <td>4.78</td>\n",
       "      <td>9.57</td>\n",
       "    </tr>\n",
       "  </tbody>\n",
       "</table>\n",
       "</div>"
      ],
      "text/plain": [
       "      date  england scotland wales nireland     date_ok  per_M_eng per_M_scot  \\\n",
       "0 43899.00      280      NaN   NaN      NaN  2020-03-09       5.00        NaN   \n",
       "1 43900.00      324    27.00  6.00    16.00  2020-03-10       5.79       4.96   \n",
       "2 43901.00      387    36.00 15.00    18.00  2020-03-11       6.91       6.62   \n",
       "\n",
       "  per_M_wales per_M_nire  \n",
       "0         NaN        NaN  \n",
       "1        1.91       8.50  \n",
       "2        4.78       9.57  "
      ]
     },
     "execution_count": 26,
     "metadata": {},
     "output_type": "execute_result"
    }
   ],
   "source": [
    "df[:3]"
   ]
  },
  {
   "cell_type": "code",
   "execution_count": null,
   "metadata": {},
   "outputs": [],
   "source": []
  },
  {
   "cell_type": "markdown",
   "metadata": {},
   "source": [
    "### analysis. daily total-cases figures are worst in Wales, when adjusted for population"
   ]
  },
  {
   "cell_type": "code",
   "execution_count": 32,
   "metadata": {},
   "outputs": [
    {
     "data": {
      "image/png": "[encoded data removed]",
      "text/plain": [
       "<Figure size 1440x720 with 1 Axes>"
      ]
     },
     "metadata": {},
     "output_type": "display_data"
    }
   ],
   "source": [
    "plt.style.use('ggplot')\n",
    "fig, ax = plt.subplots(figsize = (20, 10))\n",
    "\n",
    "plt.plot(df.date_ok, df.per_M_wales, label='Wales')\n",
    "plt.plot(df.date_ok, df.per_M_eng, linestyle = \"--\", label='England')\n",
    "plt.plot(df.date_ok, df.per_M_scot, linestyle = \"--\", label='Scotland')\n",
    "plt.plot(df.date_ok, df.per_M_nire, linestyle = \"--\", label='N Ireland', color = 'green')\n",
    "\n",
    "plt.legend(loc='best')\n",
    "\n",
    "ax.set_title('Reported Coronavirus cases in UK | Cumulative since March 9, per million people')\n",
    "ax.set_xlabel('(sources: gov.uk & ons)')\n",
    "ax.set_ylabel('Number of Coronavirus cases')\n",
    "\n",
    "plt.xticks(rotation = 'vertical')\n",
    "plt.show()"
   ]
  },
  {
   "cell_type": "markdown",
   "metadata": {},
   "source": [
    "### uk latest total deaths. import and wrangling"
   ]
  },
  {
   "cell_type": "code",
   "execution_count": 37,
   "metadata": {},
   "outputs": [
    {
     "data": {
      "text/plain": [
       "(1, 13)"
      ]
     },
     "execution_count": 37,
     "metadata": {},
     "output_type": "execute_result"
    }
   ],
   "source": [
    "\n",
    "file = 'ukgov_daily_indicators_0904.csv'\n",
    "path = f\"/Users/aidanair/Documents/DATA/ALL_DATASETS/COVID/{file}\"\n",
    "dfd = pd.read_csv(path, encoding = 'utf-8')\n"
   ]
  },
  {
   "cell_type": "code",
   "execution_count": 39,
   "metadata": {},
   "outputs": [],
   "source": [
    "cols = 'date total_uk_cases new_uk_cases total_uk_deaths new_uk_deaths england_cases england_deaths scotland_cases scotland_deaths wales_cases wales_deaths nire_cases nire_deaths'.split()\n",
    "dfd.columns = cols"
   ]
  },
  {
   "cell_type": "code",
   "execution_count": 42,
   "metadata": {},
   "outputs": [],
   "source": [
    "# fix England deaths data types\n",
    "\n",
    "dfd.england_deaths = dfd.england_deaths.str.replace(\",\", \"\")\n",
    "dfd.england_deaths = dfd.england_deaths.astype(int)\n",
    "\n",
    "#df.england = df.england.astype('Int64')"
   ]
  },
  {
   "cell_type": "code",
   "execution_count": 74,
   "metadata": {},
   "outputs": [
    {
     "data": {
      "text/html": [
       "<div>\n",
       "<style scoped>\n",
       "    .dataframe tbody tr th:only-of-type {\n",
       "        vertical-align: middle;\n",
       "    }\n",
       "\n",
       "    .dataframe tbody tr th {\n",
       "        vertical-align: top;\n",
       "    }\n",
       "\n",
       "    .dataframe thead th {\n",
       "        text-align: right;\n",
       "    }\n",
       "</style>\n",
       "<table border=\"1\" class=\"dataframe\">\n",
       "  <thead>\n",
       "    <tr style=\"text-align: right;\">\n",
       "      <th></th>\n",
       "      <th>date</th>\n",
       "      <th>total_uk_cases</th>\n",
       "      <th>new_uk_cases</th>\n",
       "      <th>total_uk_deaths_total</th>\n",
       "      <th>new_uk_deaths</th>\n",
       "      <th>england_cases</th>\n",
       "      <th>england_deaths</th>\n",
       "      <th>scotland_cases</th>\n",
       "      <th>scotland_deaths</th>\n",
       "      <th>wales_cases</th>\n",
       "      <th>wales_deaths</th>\n",
       "      <th>nire_cases</th>\n",
       "      <th>nire_deaths</th>\n",
       "      <th>dead_per_M_eng</th>\n",
       "      <th>dead_per_M_scot</th>\n",
       "      <th>dead_per_M_wales</th>\n",
       "      <th>dead_per_M_nire</th>\n",
       "    </tr>\n",
       "  </thead>\n",
       "  <tbody>\n",
       "    <tr>\n",
       "      <th>0</th>\n",
       "      <td>09/04/2020</td>\n",
       "      <td>65,077</td>\n",
       "      <td>4,344</td>\n",
       "      <td>7,978</td>\n",
       "      <td>881</td>\n",
       "      <td>54,554</td>\n",
       "      <td>7248</td>\n",
       "      <td>4,957</td>\n",
       "      <td>366</td>\n",
       "      <td>4,089</td>\n",
       "      <td>286</td>\n",
       "      <td>1,477</td>\n",
       "      <td>78</td>\n",
       "      <td>129.48</td>\n",
       "      <td>67.30</td>\n",
       "      <td>91.12</td>\n",
       "      <td>41.45</td>\n",
       "    </tr>\n",
       "  </tbody>\n",
       "</table>\n",
       "</div>"
      ],
      "text/plain": [
       "         date total_uk_cases new_uk_cases total_uk_deaths_total  \\\n",
       "0  09/04/2020         65,077        4,344                 7,978   \n",
       "\n",
       "   new_uk_deaths england_cases  england_deaths scotland_cases  \\\n",
       "0            881        54,554            7248          4,957   \n",
       "\n",
       "   scotland_deaths wales_cases  wales_deaths nire_cases  nire_deaths  \\\n",
       "0              366       4,089           286      1,477           78   \n",
       "\n",
       "   dead_per_M_eng  dead_per_M_scot  dead_per_M_wales  dead_per_M_nire  \n",
       "0          129.48            67.30             91.12            41.45  "
      ]
     },
     "execution_count": 74,
     "metadata": {},
     "output_type": "execute_result"
    }
   ],
   "source": [
    "dfd"
   ]
  },
  {
   "cell_type": "code",
   "execution_count": 44,
   "metadata": {},
   "outputs": [],
   "source": [
    "# get 'deaths per million people' columns\n",
    "\n",
    "dfd['dead_per_M_eng'] = (dfd.england_deaths / eng_pop) * 1_000_000\n",
    "dfd['dead_per_M_scot'] = (dfd.scotland_deaths / scot_pop) * 1_000_000\n",
    "dfd['dead_per_M_wales'] = (dfd.wales_deaths / wales_pop) * 1_000_000\n",
    "dfd['dead_per_M_nire'] = (dfd.nire_deaths / nire_pop) * 1_000_000"
   ]
  },
  {
   "cell_type": "code",
   "execution_count": 46,
   "metadata": {},
   "outputs": [
    {
     "data": {
      "text/html": [
       "<div>\n",
       "<style scoped>\n",
       "    .dataframe tbody tr th:only-of-type {\n",
       "        vertical-align: middle;\n",
       "    }\n",
       "\n",
       "    .dataframe tbody tr th {\n",
       "        vertical-align: top;\n",
       "    }\n",
       "\n",
       "    .dataframe thead th {\n",
       "        text-align: right;\n",
       "    }\n",
       "</style>\n",
       "<table border=\"1\" class=\"dataframe\">\n",
       "  <thead>\n",
       "    <tr style=\"text-align: right;\">\n",
       "      <th></th>\n",
       "      <th>dead_per_M_eng</th>\n",
       "      <th>dead_per_M_scot</th>\n",
       "      <th>dead_per_M_wales</th>\n",
       "      <th>dead_per_M_nire</th>\n",
       "    </tr>\n",
       "  </thead>\n",
       "  <tbody>\n",
       "    <tr>\n",
       "      <th>0</th>\n",
       "      <td>129.48</td>\n",
       "      <td>67.30</td>\n",
       "      <td>91.12</td>\n",
       "      <td>41.45</td>\n",
       "    </tr>\n",
       "  </tbody>\n",
       "</table>\n",
       "</div>"
      ],
      "text/plain": [
       "   dead_per_M_eng  dead_per_M_scot  dead_per_M_wales  dead_per_M_nire\n",
       "0          129.48            67.30             91.12            41.45"
      ]
     },
     "execution_count": 46,
     "metadata": {},
     "output_type": "execute_result"
    }
   ],
   "source": [
    "# new df doing just the per_million columns\n",
    "\n",
    "dfd_pop_dead = dfd.iloc[:,13:17]\n",
    "dfd_pop_dead"
   ]
  },
  {
   "cell_type": "code",
   "execution_count": 66,
   "metadata": {},
   "outputs": [
    {
     "data": {
      "text/plain": [
       "[129.48133969883227, 67.30291829867049, 91.12253081040747, 41.453178369306364]"
      ]
     },
     "execution_count": 66,
     "metadata": {},
     "output_type": "execute_result"
    }
   ],
   "source": [
    "list(dfd_pop_dead.iloc[0])"
   ]
  },
  {
   "cell_type": "code",
   "execution_count": 82,
   "metadata": {},
   "outputs": [
    {
     "data": {
      "image/png": "[encoded data removed]",
      "text/plain": [
       "<Figure size 1440x360 with 1 Axes>"
      ]
     },
     "metadata": {},
     "output_type": "display_data"
    }
   ],
   "source": [
    "plt.style.use('ggplot')\n",
    "plt.subplots(figsize = (20, 5))\n",
    "\n",
    "x = list(dfd_pop_dead.iloc[0])\n",
    "y = ['England', 'Scotland', 'Wales', 'N Ireland']\n",
    "\n",
    "x_pos = [i for i, _ in enumerate(x)]\n",
    "\n",
    "plt.barh(x_pos, x, color='orange')\n",
    "plt.yticks(x_pos, y)\n",
    "\n",
    "plt.ylabel(\"Nation\")\n",
    "plt.xlabel(\"Number of deaths / sources: gov.uk\")\n",
    "plt.title(\"COVID-19 UK deaths reported as of April 9\")\n",
    "\n",
    "plt.show()"
   ]
  },
  {
   "cell_type": "code",
   "execution_count": null,
   "metadata": {},
   "outputs": [],
   "source": []
  }
 ],
 "metadata": {
  "kernelspec": {
   "display_name": "Python 3",
   "language": "python",
   "name": "python3"
  },
  "language_info": {
   "codemirror_mode": {
    "name": "ipython",
    "version": 3
   },
   "file_extension": ".py",
   "mimetype": "text/x-python",
   "name": "python",
   "nbconvert_exporter": "python",
   "pygments_lexer": "ipython3",
   "version": "3.7.3"
  }
 },
 "nbformat": 4,
 "nbformat_minor": 2
}
