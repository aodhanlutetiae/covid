{
 "cells": [
  {
   "cell_type": "markdown",
   "metadata": {},
   "source": [
    "> This is the query that returned the data used below\n",
    "\n",
    "> https://uk-air.defra.gov.uk/data/data_selector_service?q=2053669#mid"
   ]
  },
  {
   "cell_type": "code",
   "execution_count": 345,
   "metadata": {},
   "outputs": [],
   "source": [
    "import pandas as pd\n",
    "import matplotlib.pyplot as plt\n",
    "import numpy as np\n",
    "\n",
    "from pandas.plotting import register_matplotlib_converters\n",
    "register_matplotlib_converters()\n",
    "\n",
    "pd.options.display.max_columns = 50\n",
    "pd.options.display.float_format = '{:.2f}'.format\n",
    "import warnings\n",
    "warnings.simplefilter(action='ignore', category=Warning)\n"
   ]
  },
  {
   "cell_type": "markdown",
   "metadata": {},
   "source": [
    "## Import and cleaning"
   ]
  },
  {
   "cell_type": "code",
   "execution_count": 152,
   "metadata": {},
   "outputs": [],
   "source": [
    "path = '/Users/aidanair/Documents/covid/wales_air_1204/defra_cardiff_air_1204.csv'\n",
    "predf = pd.read_csv (path, skiprows = 3, header = [0, 1])\n"
   ]
  },
  {
   "cell_type": "code",
   "execution_count": 252,
   "metadata": {},
   "outputs": [
    {
     "data": {
      "text/html": [
       "<div>\n",
       "<style scoped>\n",
       "    .dataframe tbody tr th:only-of-type {\n",
       "        vertical-align: middle;\n",
       "    }\n",
       "\n",
       "    .dataframe tbody tr th {\n",
       "        vertical-align: top;\n",
       "    }\n",
       "\n",
       "    .dataframe thead tr th {\n",
       "        text-align: left;\n",
       "    }\n",
       "</style>\n",
       "<table border=\"1\" class=\"dataframe\">\n",
       "  <thead>\n",
       "    <tr>\n",
       "      <th></th>\n",
       "      <th>Unnamed: 0_level_0</th>\n",
       "      <th>Unnamed: 1_level_0</th>\n",
       "      <th>Cardiff Centre</th>\n",
       "      <th>Unnamed: 3_level_0</th>\n",
       "      <th>Unnamed: 4_level_0</th>\n",
       "      <th>Unnamed: 5_level_0</th>\n",
       "      <th>Unnamed: 6_level_0</th>\n",
       "      <th>Unnamed: 7_level_0</th>\n",
       "      <th>Unnamed: 8_level_0</th>\n",
       "      <th>Unnamed: 9_level_0</th>\n",
       "      <th>Unnamed: 10_level_0</th>\n",
       "      <th>Unnamed: 11_level_0</th>\n",
       "      <th>Unnamed: 12_level_0</th>\n",
       "      <th>Unnamed: 13_level_0</th>\n",
       "      <th>Unnamed: 14_level_0</th>\n",
       "      <th>Unnamed: 15_level_0</th>\n",
       "      <th>Unnamed: 16_level_0</th>\n",
       "      <th>Unnamed: 17_level_0</th>\n",
       "      <th>Unnamed: 18_level_0</th>\n",
       "      <th>Unnamed: 19_level_0</th>\n",
       "      <th>Unnamed: 20_level_0</th>\n",
       "      <th>Unnamed: 21_level_0</th>\n",
       "      <th>Unnamed: 22_level_0</th>\n",
       "      <th>Unnamed: 23_level_0</th>\n",
       "      <th>Unnamed: 24_level_0</th>\n",
       "      <th>Unnamed: 25_level_0</th>\n",
       "      <th>Unnamed: 26_level_0</th>\n",
       "      <th>Unnamed: 27_level_0</th>\n",
       "      <th>Unnamed: 28_level_0</th>\n",
       "      <th>Unnamed: 29_level_0</th>\n",
       "      <th>Unnamed: 30_level_0</th>\n",
       "      <th>Unnamed: 31_level_0</th>\n",
       "      <th>Cardiff Newport Road</th>\n",
       "      <th>Unnamed: 33_level_0</th>\n",
       "      <th>Unnamed: 34_level_0</th>\n",
       "      <th>Unnamed: 35_level_0</th>\n",
       "      <th>Unnamed: 36_level_0</th>\n",
       "      <th>Unnamed: 37_level_0</th>\n",
       "      <th>Unnamed: 38_level_0</th>\n",
       "      <th>Unnamed: 39_level_0</th>\n",
       "      <th>Unnamed: 40_level_0</th>\n",
       "      <th>Unnamed: 41_level_0</th>\n",
       "      <th>Unnamed: 42_level_0</th>\n",
       "      <th>Unnamed: 43_level_0</th>\n",
       "      <th>Unnamed: 44_level_0</th>\n",
       "      <th>Unnamed: 45_level_0</th>\n",
       "    </tr>\n",
       "    <tr>\n",
       "      <th></th>\n",
       "      <th>Date</th>\n",
       "      <th>Time</th>\n",
       "      <th>Ozone</th>\n",
       "      <th>Status</th>\n",
       "      <th>Nitric oxide</th>\n",
       "      <th>Status</th>\n",
       "      <th>Nitrogen dioxide</th>\n",
       "      <th>Status</th>\n",
       "      <th>Nitrogen oxides as nitrogen dioxide</th>\n",
       "      <th>Status</th>\n",
       "      <th>Sulphur dioxide</th>\n",
       "      <th>Status</th>\n",
       "      <th>Carbon monoxide</th>\n",
       "      <th>Status</th>\n",
       "      <th>PM10 particulate matter (Hourly measured)</th>\n",
       "      <th>Status</th>\n",
       "      <th>Non-volatile PM10 (Hourly measured)</th>\n",
       "      <th>Status</th>\n",
       "      <th>Volatile PM10 (Hourly measured)</th>\n",
       "      <th>Status</th>\n",
       "      <th>PM2.5 particulate matter (Hourly measured)</th>\n",
       "      <th>Status</th>\n",
       "      <th>Non-volatile PM2.5 (Hourly measured)</th>\n",
       "      <th>Status</th>\n",
       "      <th>Volatile PM2.5 (Hourly measured)</th>\n",
       "      <th>Status</th>\n",
       "      <th>Modelled Wind Direction</th>\n",
       "      <th>Status</th>\n",
       "      <th>Modelled Wind Speed</th>\n",
       "      <th>Status</th>\n",
       "      <th>Modelled Temperature</th>\n",
       "      <th>Status</th>\n",
       "      <th>Nitric oxide</th>\n",
       "      <th>Status</th>\n",
       "      <th>Nitrogen dioxide</th>\n",
       "      <th>Status</th>\n",
       "      <th>Nitrogen oxides as nitrogen dioxide</th>\n",
       "      <th>Status</th>\n",
       "      <th>PM10 particulate matter (Hourly measured)</th>\n",
       "      <th>Status</th>\n",
       "      <th>Modelled Wind Direction</th>\n",
       "      <th>Status</th>\n",
       "      <th>Modelled Wind Speed</th>\n",
       "      <th>Status</th>\n",
       "      <th>Modelled Temperature</th>\n",
       "      <th>Status</th>\n",
       "    </tr>\n",
       "  </thead>\n",
       "  <tbody>\n",
       "    <tr>\n",
       "      <th>0</th>\n",
       "      <td>2019-04-01</td>\n",
       "      <td>01:00:00</td>\n",
       "      <td>66.58986</td>\n",
       "      <td>V ugm-3</td>\n",
       "      <td>0.18047</td>\n",
       "      <td>V ugm-3</td>\n",
       "      <td>5.81632</td>\n",
       "      <td>V ugm-3</td>\n",
       "      <td>6.09304</td>\n",
       "      <td>V ugm-3</td>\n",
       "      <td>0.73637</td>\n",
       "      <td>V ugm-3</td>\n",
       "      <td>0.087</td>\n",
       "      <td>V mgm-3</td>\n",
       "      <td>13.8</td>\n",
       "      <td>V ugm-3 (TEOM FDMS)</td>\n",
       "      <td>11.5</td>\n",
       "      <td>V ugm-3 (TEOM FDMS)</td>\n",
       "      <td>2.3</td>\n",
       "      <td>V ugm-3 (TEOM FDMS)</td>\n",
       "      <td>3.2</td>\n",
       "      <td>V ugm-3 (TEOM FDMS)</td>\n",
       "      <td>2.2</td>\n",
       "      <td>V ugm-3 (TEOM FDMS)</td>\n",
       "      <td>1</td>\n",
       "      <td>V ugm-3 (TEOM FDMS)</td>\n",
       "      <td>77.2</td>\n",
       "      <td>N deg</td>\n",
       "      <td>5.8</td>\n",
       "      <td>N ms-1</td>\n",
       "      <td>4.8</td>\n",
       "      <td>N degC</td>\n",
       "      <td>1.86267</td>\n",
       "      <td>V ugm-3</td>\n",
       "      <td>12.33341</td>\n",
       "      <td>V ugm-3</td>\n",
       "      <td>15.18945</td>\n",
       "      <td>V ugm-3</td>\n",
       "      <td>No data</td>\n",
       "      <td>V ugm-3 (Ref.eq)</td>\n",
       "      <td>78.5</td>\n",
       "      <td>N deg</td>\n",
       "      <td>7.6</td>\n",
       "      <td>N ms-1</td>\n",
       "      <td>6.9</td>\n",
       "      <td>N degC</td>\n",
       "    </tr>\n",
       "    <tr>\n",
       "      <th>1</th>\n",
       "      <td>2019-04-01</td>\n",
       "      <td>02:00:00</td>\n",
       "      <td>63.52978</td>\n",
       "      <td>V ugm-3</td>\n",
       "      <td>0.49629</td>\n",
       "      <td>V ugm-3</td>\n",
       "      <td>14.02662</td>\n",
       "      <td>V ugm-3</td>\n",
       "      <td>14.78759</td>\n",
       "      <td>V ugm-3</td>\n",
       "      <td>0.63117</td>\n",
       "      <td>V ugm-3</td>\n",
       "      <td>0.068215</td>\n",
       "      <td>V mgm-3</td>\n",
       "      <td>14.1</td>\n",
       "      <td>V ugm-3 (TEOM FDMS)</td>\n",
       "      <td>11.2</td>\n",
       "      <td>V ugm-3 (TEOM FDMS)</td>\n",
       "      <td>2.9</td>\n",
       "      <td>V ugm-3 (TEOM FDMS)</td>\n",
       "      <td>4.1</td>\n",
       "      <td>V ugm-3 (TEOM FDMS)</td>\n",
       "      <td>2.2</td>\n",
       "      <td>V ugm-3 (TEOM FDMS)</td>\n",
       "      <td>1.9</td>\n",
       "      <td>V ugm-3 (TEOM FDMS)</td>\n",
       "      <td>74.6</td>\n",
       "      <td>N deg</td>\n",
       "      <td>5.6</td>\n",
       "      <td>N ms-1</td>\n",
       "      <td>4.3</td>\n",
       "      <td>N degC</td>\n",
       "      <td>1.2129</td>\n",
       "      <td>V ugm-3</td>\n",
       "      <td>12.04131</td>\n",
       "      <td>V ugm-3</td>\n",
       "      <td>13.90106</td>\n",
       "      <td>V ugm-3</td>\n",
       "      <td>No data</td>\n",
       "      <td>V ugm-3 (Ref.eq)</td>\n",
       "      <td>74.8</td>\n",
       "      <td>N deg</td>\n",
       "      <td>7.3</td>\n",
       "      <td>N ms-1</td>\n",
       "      <td>6.4</td>\n",
       "      <td>N degC</td>\n",
       "    </tr>\n",
       "  </tbody>\n",
       "</table>\n",
       "</div>"
      ],
      "text/plain": [
       "  Unnamed: 0_level_0 Unnamed: 1_level_0 Cardiff Centre Unnamed: 3_level_0  \\\n",
       "                Date               Time          Ozone             Status   \n",
       "0         2019-04-01           01:00:00       66.58986            V ugm-3   \n",
       "1         2019-04-01           02:00:00       63.52978            V ugm-3   \n",
       "\n",
       "  Unnamed: 4_level_0 Unnamed: 5_level_0 Unnamed: 6_level_0 Unnamed: 7_level_0  \\\n",
       "        Nitric oxide             Status   Nitrogen dioxide             Status   \n",
       "0            0.18047            V ugm-3            5.81632            V ugm-3   \n",
       "1            0.49629            V ugm-3           14.02662            V ugm-3   \n",
       "\n",
       "                   Unnamed: 8_level_0 Unnamed: 9_level_0 Unnamed: 10_level_0  \\\n",
       "  Nitrogen oxides as nitrogen dioxide             Status     Sulphur dioxide   \n",
       "0                             6.09304            V ugm-3             0.73637   \n",
       "1                            14.78759            V ugm-3             0.63117   \n",
       "\n",
       "  Unnamed: 11_level_0 Unnamed: 12_level_0 Unnamed: 13_level_0  \\\n",
       "               Status     Carbon monoxide              Status   \n",
       "0             V ugm-3               0.087             V mgm-3   \n",
       "1             V ugm-3            0.068215             V mgm-3   \n",
       "\n",
       "                        Unnamed: 14_level_0  Unnamed: 15_level_0  \\\n",
       "  PM10 particulate matter (Hourly measured)               Status   \n",
       "0                                      13.8  V ugm-3 (TEOM FDMS)   \n",
       "1                                      14.1  V ugm-3 (TEOM FDMS)   \n",
       "\n",
       "                  Unnamed: 16_level_0  Unnamed: 17_level_0  \\\n",
       "  Non-volatile PM10 (Hourly measured)               Status   \n",
       "0                                11.5  V ugm-3 (TEOM FDMS)   \n",
       "1                                11.2  V ugm-3 (TEOM FDMS)   \n",
       "\n",
       "              Unnamed: 18_level_0  Unnamed: 19_level_0  \\\n",
       "  Volatile PM10 (Hourly measured)               Status   \n",
       "0                             2.3  V ugm-3 (TEOM FDMS)   \n",
       "1                             2.9  V ugm-3 (TEOM FDMS)   \n",
       "\n",
       "                         Unnamed: 20_level_0  Unnamed: 21_level_0  \\\n",
       "  PM2.5 particulate matter (Hourly measured)               Status   \n",
       "0                                        3.2  V ugm-3 (TEOM FDMS)   \n",
       "1                                        4.1  V ugm-3 (TEOM FDMS)   \n",
       "\n",
       "                   Unnamed: 22_level_0  Unnamed: 23_level_0  \\\n",
       "  Non-volatile PM2.5 (Hourly measured)               Status   \n",
       "0                                  2.2  V ugm-3 (TEOM FDMS)   \n",
       "1                                  2.2  V ugm-3 (TEOM FDMS)   \n",
       "\n",
       "               Unnamed: 24_level_0  Unnamed: 25_level_0  \\\n",
       "  Volatile PM2.5 (Hourly measured)               Status   \n",
       "0                                1  V ugm-3 (TEOM FDMS)   \n",
       "1                              1.9  V ugm-3 (TEOM FDMS)   \n",
       "\n",
       "      Unnamed: 26_level_0 Unnamed: 27_level_0 Unnamed: 28_level_0  \\\n",
       "  Modelled Wind Direction              Status Modelled Wind Speed   \n",
       "0                    77.2               N deg                 5.8   \n",
       "1                    74.6               N deg                 5.6   \n",
       "\n",
       "  Unnamed: 29_level_0  Unnamed: 30_level_0 Unnamed: 31_level_0  \\\n",
       "               Status Modelled Temperature              Status   \n",
       "0              N ms-1                  4.8              N degC   \n",
       "1              N ms-1                  4.3              N degC   \n",
       "\n",
       "  Cardiff Newport Road Unnamed: 33_level_0 Unnamed: 34_level_0  \\\n",
       "          Nitric oxide              Status    Nitrogen dioxide   \n",
       "0              1.86267             V ugm-3            12.33341   \n",
       "1               1.2129             V ugm-3            12.04131   \n",
       "\n",
       "  Unnamed: 35_level_0                 Unnamed: 36_level_0 Unnamed: 37_level_0  \\\n",
       "               Status Nitrogen oxides as nitrogen dioxide              Status   \n",
       "0             V ugm-3                            15.18945             V ugm-3   \n",
       "1             V ugm-3                            13.90106             V ugm-3   \n",
       "\n",
       "                        Unnamed: 38_level_0 Unnamed: 39_level_0  \\\n",
       "  PM10 particulate matter (Hourly measured)              Status   \n",
       "0                                   No data    V ugm-3 (Ref.eq)   \n",
       "1                                   No data    V ugm-3 (Ref.eq)   \n",
       "\n",
       "      Unnamed: 40_level_0 Unnamed: 41_level_0 Unnamed: 42_level_0  \\\n",
       "  Modelled Wind Direction              Status Modelled Wind Speed   \n",
       "0                    78.5               N deg                 7.6   \n",
       "1                    74.8               N deg                 7.3   \n",
       "\n",
       "  Unnamed: 43_level_0  Unnamed: 44_level_0 Unnamed: 45_level_0  \n",
       "               Status Modelled Temperature              Status  \n",
       "0              N ms-1                  6.9              N degC  \n",
       "1              N ms-1                  6.4              N degC  "
      ]
     },
     "execution_count": 252,
     "metadata": {},
     "output_type": "execute_result"
    }
   ],
   "source": [
    "predf.iloc[:2, ]"
   ]
  },
  {
   "cell_type": "code",
   "execution_count": 253,
   "metadata": {},
   "outputs": [],
   "source": [
    "# create df for cardiff centre and newport road for NO2\n",
    "df = predf.iloc[:, np.r_[0:2, 6:8, 34:36]]\n"
   ]
  },
  {
   "cell_type": "code",
   "execution_count": 254,
   "metadata": {},
   "outputs": [],
   "source": [
    "# remove the top layer of the multi-index\n",
    "df.columns = df.columns.droplevel(level = 0)\n",
    "\n",
    "# drop the bottom row\n",
    "df = df.drop(df.index[[9048]])\n"
   ]
  },
  {
   "cell_type": "code",
   "execution_count": 256,
   "metadata": {},
   "outputs": [],
   "source": [
    "# clean time column to have 00 instead of 24\n",
    "df['Time'] = df['Time'].str.replace('24', '00')\n",
    "\n",
    "# create new col with date AND time\n",
    "df['date_time'] = df['Date'] + ' ' + df['Time']\n",
    "\n",
    "# convert to datetime\n",
    "df.date_time = pd.to_datetime(df.date_time)\n",
    "\n",
    "# drop the old date col\n",
    "df = df.iloc[:,1:]"
   ]
  },
  {
   "cell_type": "code",
   "execution_count": 258,
   "metadata": {},
   "outputs": [],
   "source": [
    "cols = ['time', 'cardiff_NO2', 'cardiff_status', 'NR_NO2', 'NR_status', 'date_time']\n",
    "\n",
    "df.columns = cols"
   ]
  },
  {
   "cell_type": "code",
   "execution_count": 260,
   "metadata": {},
   "outputs": [],
   "source": [
    "# cast two columns to numeric\n",
    "\n",
    "df.cardiff_NO2 = pd.to_numeric(df.cardiff_NO2, errors = 'coerce')\n",
    "df.NR_NO2 = pd.to_numeric(df.NR_NO2, errors = 'coerce')\n"
   ]
  },
  {
   "cell_type": "code",
   "execution_count": 262,
   "metadata": {},
   "outputs": [],
   "source": [
    "# set the datetime as the index\n",
    "\n",
    "df.set_index(df.date_time, inplace = True)"
   ]
  },
  {
   "cell_type": "code",
   "execution_count": 266,
   "metadata": {},
   "outputs": [
    {
     "name": "stdout",
     "output_type": "stream",
     "text": [
      "(9048, 6)\n"
     ]
    },
    {
     "data": {
      "text/html": [
       "<div>\n",
       "<style scoped>\n",
       "    .dataframe tbody tr th:only-of-type {\n",
       "        vertical-align: middle;\n",
       "    }\n",
       "\n",
       "    .dataframe tbody tr th {\n",
       "        vertical-align: top;\n",
       "    }\n",
       "\n",
       "    .dataframe thead th {\n",
       "        text-align: right;\n",
       "    }\n",
       "</style>\n",
       "<table border=\"1\" class=\"dataframe\">\n",
       "  <thead>\n",
       "    <tr style=\"text-align: right;\">\n",
       "      <th></th>\n",
       "      <th>time</th>\n",
       "      <th>cardiff_NO2</th>\n",
       "      <th>cardiff_status</th>\n",
       "      <th>NR_NO2</th>\n",
       "      <th>NR_status</th>\n",
       "      <th>date_time</th>\n",
       "    </tr>\n",
       "    <tr>\n",
       "      <th>date_time</th>\n",
       "      <th></th>\n",
       "      <th></th>\n",
       "      <th></th>\n",
       "      <th></th>\n",
       "      <th></th>\n",
       "      <th></th>\n",
       "    </tr>\n",
       "  </thead>\n",
       "  <tbody>\n",
       "    <tr>\n",
       "      <th>2019-04-01 01:00:00</th>\n",
       "      <td>01:00:00</td>\n",
       "      <td>5.81632</td>\n",
       "      <td>V ugm-3</td>\n",
       "      <td>12.33341</td>\n",
       "      <td>V ugm-3</td>\n",
       "      <td>2019-04-01 01:00:00</td>\n",
       "    </tr>\n",
       "    <tr>\n",
       "      <th>2019-04-01 02:00:00</th>\n",
       "      <td>02:00:00</td>\n",
       "      <td>14.02662</td>\n",
       "      <td>V ugm-3</td>\n",
       "      <td>12.04131</td>\n",
       "      <td>V ugm-3</td>\n",
       "      <td>2019-04-01 02:00:00</td>\n",
       "    </tr>\n",
       "  </tbody>\n",
       "</table>\n",
       "</div>"
      ],
      "text/plain": [
       "                         time  cardiff_NO2 cardiff_status    NR_NO2 NR_status  \\\n",
       "date_time                                                                       \n",
       "2019-04-01 01:00:00  01:00:00      5.81632        V ugm-3  12.33341   V ugm-3   \n",
       "2019-04-01 02:00:00  02:00:00     14.02662        V ugm-3  12.04131   V ugm-3   \n",
       "\n",
       "                              date_time  \n",
       "date_time                                \n",
       "2019-04-01 01:00:00 2019-04-01 01:00:00  \n",
       "2019-04-01 02:00:00 2019-04-01 02:00:00  "
      ]
     },
     "execution_count": 266,
     "metadata": {},
     "output_type": "execute_result"
    }
   ],
   "source": [
    "print(df.shape)\n",
    "df[:2]\n",
    "\n",
    "# we have NO2 readings in two locations, every hour. 24 readings for each of 377 days (april 1 2019 - april 11 2020)"
   ]
  },
  {
   "cell_type": "markdown",
   "metadata": {},
   "source": [
    "## Analysis central Cardiff"
   ]
  },
  {
   "cell_type": "code",
   "execution_count": 274,
   "metadata": {},
   "outputs": [
    {
     "name": "stdout",
     "output_type": "stream",
     "text": [
      "24\n"
     ]
    },
    {
     "data": {
      "text/html": [
       "<div>\n",
       "<style scoped>\n",
       "    .dataframe tbody tr th:only-of-type {\n",
       "        vertical-align: middle;\n",
       "    }\n",
       "\n",
       "    .dataframe tbody tr th {\n",
       "        vertical-align: top;\n",
       "    }\n",
       "\n",
       "    .dataframe thead th {\n",
       "        text-align: right;\n",
       "    }\n",
       "</style>\n",
       "<table border=\"1\" class=\"dataframe\">\n",
       "  <thead>\n",
       "    <tr style=\"text-align: right;\">\n",
       "      <th></th>\n",
       "      <th>cardiff_NO2</th>\n",
       "    </tr>\n",
       "    <tr>\n",
       "      <th>time</th>\n",
       "      <th></th>\n",
       "    </tr>\n",
       "  </thead>\n",
       "  <tbody>\n",
       "    <tr>\n",
       "      <th>00:00:00</th>\n",
       "      <td>16.527019</td>\n",
       "    </tr>\n",
       "    <tr>\n",
       "      <th>01:00:00</th>\n",
       "      <td>15.518936</td>\n",
       "    </tr>\n",
       "  </tbody>\n",
       "</table>\n",
       "</div>"
      ],
      "text/plain": [
       "          cardiff_NO2\n",
       "time                 \n",
       "00:00:00    16.527019\n",
       "01:00:00    15.518936"
      ]
     },
     "execution_count": 274,
     "metadata": {},
     "output_type": "execute_result"
    }
   ],
   "source": [
    "# groupby for an average hourly reading over the year to see the 24hour period\n",
    "\n",
    "cardiff_daily = pd.DataFrame(df.groupby('time')['cardiff_NO2'].mean())\n",
    "print (len(cardiff_daily))\n",
    "cardiff_daily[:2]"
   ]
  },
  {
   "cell_type": "code",
   "execution_count": null,
   "metadata": {},
   "outputs": [],
   "source": []
  },
  {
   "cell_type": "markdown",
   "metadata": {},
   "source": [
    "#### CHECK \n",
    "> calculate the average we think we're looking at in the groupby to doublecheck"
   ]
  },
  {
   "cell_type": "code",
   "execution_count": 273,
   "metadata": {},
   "outputs": [
    {
     "name": "stdout",
     "output_type": "stream",
     "text": [
      "377\n",
      "15.518935652173912\n"
     ]
    }
   ],
   "source": [
    "testing = df[df.time == '01:00:00']\n",
    "print (len(testing))                   # this returns 377 rows, one for each day, of 1am readings.\n",
    "print(testing.cardiff_NO2.mean())      # this returns the same figure as our grouby."
   ]
  },
  {
   "cell_type": "code",
   "execution_count": null,
   "metadata": {},
   "outputs": [],
   "source": []
  },
  {
   "cell_type": "code",
   "execution_count": 278,
   "metadata": {},
   "outputs": [],
   "source": [
    "# filter for the last week (2020), get 24 readings having averaged each of the hour categories - cast to list\n",
    "\n",
    "CD_wk_1104_2020 = list(df['2020-04-04':'2020-04-11'].groupby('time')['cardiff_NO2'].mean())\n",
    "\n",
    "# filter for the same week, in 2019\n",
    "\n",
    "CD_wk_1104_2019 = list(df['2019-04-04':'2019-04-11'].groupby('time')['cardiff_NO2'].mean())\n"
   ]
  },
  {
   "cell_type": "code",
   "execution_count": 279,
   "metadata": {},
   "outputs": [],
   "source": [
    "# add these averaged lists as columns\n",
    "\n",
    "cardiff_daily['wk_to1104_2020'] = CD_wk_1104_2020\n",
    "cardiff_daily['wk_to1104_2019'] = CD_wk_1104_2019"
   ]
  },
  {
   "cell_type": "code",
   "execution_count": 280,
   "metadata": {},
   "outputs": [
    {
     "data": {
      "text/html": [
       "<div>\n",
       "<style scoped>\n",
       "    .dataframe tbody tr th:only-of-type {\n",
       "        vertical-align: middle;\n",
       "    }\n",
       "\n",
       "    .dataframe tbody tr th {\n",
       "        vertical-align: top;\n",
       "    }\n",
       "\n",
       "    .dataframe thead th {\n",
       "        text-align: right;\n",
       "    }\n",
       "</style>\n",
       "<table border=\"1\" class=\"dataframe\">\n",
       "  <thead>\n",
       "    <tr style=\"text-align: right;\">\n",
       "      <th></th>\n",
       "      <th>cardiff_NO2</th>\n",
       "      <th>wk_to1104_2020</th>\n",
       "      <th>wk_to1104_2019</th>\n",
       "    </tr>\n",
       "    <tr>\n",
       "      <th>time</th>\n",
       "      <th></th>\n",
       "      <th></th>\n",
       "      <th></th>\n",
       "    </tr>\n",
       "  </thead>\n",
       "  <tbody>\n",
       "    <tr>\n",
       "      <th>00:00:00</th>\n",
       "      <td>16.527019</td>\n",
       "      <td>21.061406</td>\n",
       "      <td>14.591075</td>\n",
       "    </tr>\n",
       "    <tr>\n",
       "      <th>01:00:00</th>\n",
       "      <td>15.518936</td>\n",
       "      <td>18.718594</td>\n",
       "      <td>10.330335</td>\n",
       "    </tr>\n",
       "  </tbody>\n",
       "</table>\n",
       "</div>"
      ],
      "text/plain": [
       "          cardiff_NO2  wk_to1104_2020  wk_to1104_2019\n",
       "time                                                 \n",
       "00:00:00    16.527019       21.061406       14.591075\n",
       "01:00:00    15.518936       18.718594       10.330335"
      ]
     },
     "execution_count": 280,
     "metadata": {},
     "output_type": "execute_result"
    }
   ],
   "source": [
    "cardiff_daily[:2]"
   ]
  },
  {
   "cell_type": "code",
   "execution_count": null,
   "metadata": {},
   "outputs": [],
   "source": []
  },
  {
   "cell_type": "markdown",
   "metadata": {},
   "source": [
    "#### CHECK"
   ]
  },
  {
   "cell_type": "code",
   "execution_count": 346,
   "metadata": {},
   "outputs": [
    {
     "name": "stdout",
     "output_type": "stream",
     "text": [
      "18.71859375\n",
      "10.330335\n"
     ]
    }
   ],
   "source": [
    "# make a selection, then filter, then find the mean to check the groupby is returning what we think it's returning.\n",
    "\n",
    "print(df['2020-04-04':'2020-04-11'][df.time == '01:00:00'].cardiff_NO2.mean())\n",
    "\n",
    "print(df['2019-04-04':'2019-04-11'][df.time == '01:00:00'].cardiff_NO2.mean())\n"
   ]
  },
  {
   "cell_type": "code",
   "execution_count": null,
   "metadata": {},
   "outputs": [],
   "source": []
  },
  {
   "cell_type": "code",
   "execution_count": 290,
   "metadata": {},
   "outputs": [
    {
     "data": {
      "text/html": [
       "<div>\n",
       "<style scoped>\n",
       "    .dataframe tbody tr th:only-of-type {\n",
       "        vertical-align: middle;\n",
       "    }\n",
       "\n",
       "    .dataframe tbody tr th {\n",
       "        vertical-align: top;\n",
       "    }\n",
       "\n",
       "    .dataframe thead th {\n",
       "        text-align: right;\n",
       "    }\n",
       "</style>\n",
       "<table border=\"1\" class=\"dataframe\">\n",
       "  <thead>\n",
       "    <tr style=\"text-align: right;\">\n",
       "      <th></th>\n",
       "      <th>cardiff_NO2</th>\n",
       "      <th>wk_to1104_2020</th>\n",
       "      <th>wk_to1104_2019</th>\n",
       "    </tr>\n",
       "    <tr>\n",
       "      <th>time</th>\n",
       "      <th></th>\n",
       "      <th></th>\n",
       "      <th></th>\n",
       "    </tr>\n",
       "  </thead>\n",
       "  <tbody>\n",
       "    <tr>\n",
       "      <th>00:00:00</th>\n",
       "      <td>16.527019</td>\n",
       "      <td>21.061406</td>\n",
       "      <td>14.591075</td>\n",
       "    </tr>\n",
       "    <tr>\n",
       "      <th>01:00:00</th>\n",
       "      <td>15.518936</td>\n",
       "      <td>18.718594</td>\n",
       "      <td>10.330335</td>\n",
       "    </tr>\n",
       "  </tbody>\n",
       "</table>\n",
       "</div>"
      ],
      "text/plain": [
       "          cardiff_NO2  wk_to1104_2020  wk_to1104_2019\n",
       "time                                                 \n",
       "00:00:00    16.527019       21.061406       14.591075\n",
       "01:00:00    15.518936       18.718594       10.330335"
      ]
     },
     "execution_count": 290,
     "metadata": {},
     "output_type": "execute_result"
    }
   ],
   "source": [
    "cardiff_daily[:2]"
   ]
  },
  {
   "cell_type": "code",
   "execution_count": null,
   "metadata": {},
   "outputs": [],
   "source": []
  },
  {
   "cell_type": "code",
   "execution_count": 385,
   "metadata": {},
   "outputs": [
    {
     "data": {
      "image/png": "[encoded data removed]",
      "text/plain": [
       "<Figure size 1440x720 with 1 Axes>"
      ]
     },
     "metadata": {},
     "output_type": "display_data"
    }
   ],
   "source": [
    "plt.style.use('Solarize_Light2')\n",
    "\n",
    "fig, ax = plt.subplots(figsize = (18, 9))\n",
    "\n",
    "plt.plot(cardiff_daily.index, cardiff_daily.cardiff_NO2, linestyle = \"--\", label = 'Year ending April 11, 2020', marker = 'o')\n",
    "plt.plot(cardiff_daily.index, cardiff_daily.wk_to1104_2019, linestyle = \"--\", color = 'orange', label = 'Week ending April 11, 2019', marker = 'o')\n",
    "plt.plot(cardiff_daily.index, cardiff_daily.wk_to1104_2020, label = 'Week ending April 11, 2020', marker = 'o')\n",
    "\n",
    "#plt.legend(loc = 'best')\n",
    "plt.legend(loc = 1, prop={'size': 12})\n",
    "\n",
    "ax.set_title('Average levels of Nitrogen Dioxide in central Cardiff over 24 hours')\n",
    "\n",
    "ax.set_ylim(bottom = 0)\n",
    "ax.set_xlabel('Time | (source: DEFRA)')\n",
    "ax.set_ylabel('Micrograms of NO2 per cubed metre')\n",
    "plt.xticks(rotation = 'vertical')\n",
    "plt.show()"
   ]
  },
  {
   "cell_type": "code",
   "execution_count": 368,
   "metadata": {},
   "outputs": [
    {
     "name": "stdout",
     "output_type": "stream",
     "text": [
      "average NO2 for YEAR ending April 11, 2020: 20.36 micrograms\n",
      "average NO2 for week ending April 11, 2019: 18.25 micrograms\n",
      "average NO2 for week ending April 11, 2020: 11.47 micrograms\n"
     ]
    }
   ],
   "source": [
    "print ('average NO2 for YEAR ending April 11, 2020:', cardiff_daily.cardiff_NO2.mean().round(2), \"micrograms\")\n",
    "print ('average NO2 for week ending April 11, 2019:', cardiff_daily.wk_to1104_2019.mean().round(2), \"micrograms\")\n",
    "print ('average NO2 for week ending April 11, 2020:', cardiff_daily.wk_to1104_2020.mean().round(2), \"micrograms\")\n"
   ]
  },
  {
   "cell_type": "code",
   "execution_count": null,
   "metadata": {},
   "outputs": [],
   "source": []
  },
  {
   "cell_type": "markdown",
   "metadata": {},
   "source": [
    "## Analysis Cardiff (Newport road, NR)"
   ]
  },
  {
   "cell_type": "code",
   "execution_count": 348,
   "metadata": {},
   "outputs": [
    {
     "data": {
      "text/html": [
       "<div>\n",
       "<style scoped>\n",
       "    .dataframe tbody tr th:only-of-type {\n",
       "        vertical-align: middle;\n",
       "    }\n",
       "\n",
       "    .dataframe tbody tr th {\n",
       "        vertical-align: top;\n",
       "    }\n",
       "\n",
       "    .dataframe thead th {\n",
       "        text-align: right;\n",
       "    }\n",
       "</style>\n",
       "<table border=\"1\" class=\"dataframe\">\n",
       "  <thead>\n",
       "    <tr style=\"text-align: right;\">\n",
       "      <th></th>\n",
       "      <th>time</th>\n",
       "      <th>cardiff_NO2</th>\n",
       "      <th>cardiff_status</th>\n",
       "      <th>NR_NO2</th>\n",
       "      <th>NR_status</th>\n",
       "      <th>date_time</th>\n",
       "    </tr>\n",
       "    <tr>\n",
       "      <th>date_time</th>\n",
       "      <th></th>\n",
       "      <th></th>\n",
       "      <th></th>\n",
       "      <th></th>\n",
       "      <th></th>\n",
       "      <th></th>\n",
       "    </tr>\n",
       "  </thead>\n",
       "  <tbody>\n",
       "    <tr>\n",
       "      <th>2019-04-01 01:00:00</th>\n",
       "      <td>01:00:00</td>\n",
       "      <td>5.82</td>\n",
       "      <td>V ugm-3</td>\n",
       "      <td>12.33</td>\n",
       "      <td>V ugm-3</td>\n",
       "      <td>2019-04-01 01:00:00</td>\n",
       "    </tr>\n",
       "    <tr>\n",
       "      <th>2019-04-01 02:00:00</th>\n",
       "      <td>02:00:00</td>\n",
       "      <td>14.03</td>\n",
       "      <td>V ugm-3</td>\n",
       "      <td>12.04</td>\n",
       "      <td>V ugm-3</td>\n",
       "      <td>2019-04-01 02:00:00</td>\n",
       "    </tr>\n",
       "  </tbody>\n",
       "</table>\n",
       "</div>"
      ],
      "text/plain": [
       "                         time  cardiff_NO2 cardiff_status  NR_NO2 NR_status  \\\n",
       "date_time                                                                     \n",
       "2019-04-01 01:00:00  01:00:00         5.82        V ugm-3   12.33   V ugm-3   \n",
       "2019-04-01 02:00:00  02:00:00        14.03        V ugm-3   12.04   V ugm-3   \n",
       "\n",
       "                              date_time  \n",
       "date_time                                \n",
       "2019-04-01 01:00:00 2019-04-01 01:00:00  \n",
       "2019-04-01 02:00:00 2019-04-01 02:00:00  "
      ]
     },
     "execution_count": 348,
     "metadata": {},
     "output_type": "execute_result"
    }
   ],
   "source": [
    "df[:2]"
   ]
  },
  {
   "cell_type": "code",
   "execution_count": 349,
   "metadata": {},
   "outputs": [],
   "source": [
    "# run a groupby to get an hourly average\n",
    "\n",
    "NR_daily = pd.DataFrame(df.groupby('time')['NR_NO2'].mean())"
   ]
  },
  {
   "cell_type": "code",
   "execution_count": 386,
   "metadata": {},
   "outputs": [
    {
     "name": "stdout",
     "output_type": "stream",
     "text": [
      "24\n"
     ]
    },
    {
     "data": {
      "text/html": [
       "<div>\n",
       "<style scoped>\n",
       "    .dataframe tbody tr th:only-of-type {\n",
       "        vertical-align: middle;\n",
       "    }\n",
       "\n",
       "    .dataframe tbody tr th {\n",
       "        vertical-align: top;\n",
       "    }\n",
       "\n",
       "    .dataframe thead th {\n",
       "        text-align: right;\n",
       "    }\n",
       "</style>\n",
       "<table border=\"1\" class=\"dataframe\">\n",
       "  <thead>\n",
       "    <tr style=\"text-align: right;\">\n",
       "      <th></th>\n",
       "      <th>NR_NO2</th>\n",
       "      <th>wk_to1104_2020</th>\n",
       "      <th>wk_to1104_2019</th>\n",
       "    </tr>\n",
       "    <tr>\n",
       "      <th>time</th>\n",
       "      <th></th>\n",
       "      <th></th>\n",
       "      <th></th>\n",
       "    </tr>\n",
       "  </thead>\n",
       "  <tbody>\n",
       "    <tr>\n",
       "      <th>00:00:00</th>\n",
       "      <td>23.04</td>\n",
       "      <td>25.03</td>\n",
       "      <td>34.02</td>\n",
       "    </tr>\n",
       "    <tr>\n",
       "      <th>01:00:00</th>\n",
       "      <td>19.47</td>\n",
       "      <td>20.65</td>\n",
       "      <td>24.36</td>\n",
       "    </tr>\n",
       "    <tr>\n",
       "      <th>02:00:00</th>\n",
       "      <td>16.45</td>\n",
       "      <td>17.88</td>\n",
       "      <td>18.97</td>\n",
       "    </tr>\n",
       "  </tbody>\n",
       "</table>\n",
       "</div>"
      ],
      "text/plain": [
       "          NR_NO2  wk_to1104_2020  wk_to1104_2019\n",
       "time                                            \n",
       "00:00:00   23.04           25.03           34.02\n",
       "01:00:00   19.47           20.65           24.36\n",
       "02:00:00   16.45           17.88           18.97"
      ]
     },
     "execution_count": 386,
     "metadata": {},
     "output_type": "execute_result"
    }
   ],
   "source": [
    "print (len(NR_daily))\n",
    "\n",
    "NR_daily[:3]"
   ]
  },
  {
   "cell_type": "markdown",
   "metadata": {},
   "source": [
    "#### CHECK"
   ]
  },
  {
   "cell_type": "code",
   "execution_count": 351,
   "metadata": {},
   "outputs": [
    {
     "name": "stdout",
     "output_type": "stream",
     "text": [
      "377\n",
      "19.465428930481284\n"
     ]
    }
   ],
   "source": [
    "testing = df[df.time == '01:00:00']   # filter the original df to get only rows at 1am\n",
    "print (len(testing))                  # this returns 377 rows, one for each day, of 1am readings.\n",
    "print(testing.NR_NO2.mean())          # this returns the same figure as our grouby.\n"
   ]
  },
  {
   "cell_type": "code",
   "execution_count": 353,
   "metadata": {},
   "outputs": [],
   "source": [
    "\n",
    "# filter for the last week (2020), get 24 readings having averaged each of the hour categories - cast to list\n",
    "NR_wk_1104_2020 = list(df['2020-04-04':'2020-04-11'].groupby('time')['NR_NO2'].mean())\n",
    "\n",
    "# filter for the same week, in 2019\n",
    "NR_wk_1104_2019 = list(df['2019-04-04':'2019-04-11'].groupby('time')['NR_NO2'].mean())\n",
    "\n",
    "# add these averaged lists as columns\n",
    "NR_daily['wk_to1104_2020'] = NR_wk_1104_2020\n",
    "NR_daily['wk_to1104_2019'] = NR_wk_1104_2019\n"
   ]
  },
  {
   "cell_type": "code",
   "execution_count": 354,
   "metadata": {},
   "outputs": [
    {
     "data": {
      "text/html": [
       "<div>\n",
       "<style scoped>\n",
       "    .dataframe tbody tr th:only-of-type {\n",
       "        vertical-align: middle;\n",
       "    }\n",
       "\n",
       "    .dataframe tbody tr th {\n",
       "        vertical-align: top;\n",
       "    }\n",
       "\n",
       "    .dataframe thead th {\n",
       "        text-align: right;\n",
       "    }\n",
       "</style>\n",
       "<table border=\"1\" class=\"dataframe\">\n",
       "  <thead>\n",
       "    <tr style=\"text-align: right;\">\n",
       "      <th></th>\n",
       "      <th>NR_NO2</th>\n",
       "      <th>wk_to1104_2020</th>\n",
       "      <th>wk_to1104_2019</th>\n",
       "    </tr>\n",
       "    <tr>\n",
       "      <th>time</th>\n",
       "      <th></th>\n",
       "      <th></th>\n",
       "      <th></th>\n",
       "    </tr>\n",
       "  </thead>\n",
       "  <tbody>\n",
       "    <tr>\n",
       "      <th>00:00:00</th>\n",
       "      <td>23.04</td>\n",
       "      <td>25.03</td>\n",
       "      <td>34.02</td>\n",
       "    </tr>\n",
       "    <tr>\n",
       "      <th>01:00:00</th>\n",
       "      <td>19.47</td>\n",
       "      <td>20.65</td>\n",
       "      <td>24.36</td>\n",
       "    </tr>\n",
       "  </tbody>\n",
       "</table>\n",
       "</div>"
      ],
      "text/plain": [
       "          NR_NO2  wk_to1104_2020  wk_to1104_2019\n",
       "time                                            \n",
       "00:00:00   23.04           25.03           34.02\n",
       "01:00:00   19.47           20.65           24.36"
      ]
     },
     "execution_count": 354,
     "metadata": {},
     "output_type": "execute_result"
    }
   ],
   "source": [
    "NR_daily[:2]"
   ]
  },
  {
   "cell_type": "markdown",
   "metadata": {},
   "source": [
    "#### CHECK"
   ]
  },
  {
   "cell_type": "code",
   "execution_count": 355,
   "metadata": {},
   "outputs": [
    {
     "name": "stdout",
     "output_type": "stream",
     "text": [
      "20.655\n",
      "24.357145714285714\n"
     ]
    }
   ],
   "source": [
    "# make a selection, then filter, then find the mean to check the groupby is returning what we think it's returning.\n",
    "\n",
    "print(df['2020-04-04':'2020-04-11'][df.time == '01:00:00'].NR_NO2.mean())\n",
    "print(df['2019-04-04':'2019-04-11'][df.time == '01:00:00'].NR_NO2.mean())"
   ]
  },
  {
   "cell_type": "code",
   "execution_count": null,
   "metadata": {},
   "outputs": [],
   "source": []
  },
  {
   "cell_type": "code",
   "execution_count": 387,
   "metadata": {},
   "outputs": [
    {
     "data": {
      "image/png": "[encoded data removed]",
      "text/plain": [
       "<Figure size 1440x720 with 1 Axes>"
      ]
     },
     "metadata": {},
     "output_type": "display_data"
    }
   ],
   "source": [
    "plt.style.use('Solarize_Light2')\n",
    "\n",
    "fig, ax = plt.subplots(figsize = (18, 9))\n",
    "\n",
    "plt.plot(NR_daily.index, NR_daily.NR_NO2, linestyle = \"--\", label = 'Year ending April 11, 2020', marker = 'o')\n",
    "plt.plot(NR_daily.index, NR_daily.wk_to1104_2019, linestyle = \"--\", color = 'orange', label = 'Week ending April 11, 2019', marker = 'o')\n",
    "plt.plot(NR_daily.index, NR_daily.wk_to1104_2020, label = 'Week ending April 11, 2020', marker = 'o')\n",
    "\n",
    "# plt.legend(loc = 'best')\n",
    "plt.legend(loc = 1, prop={'size': 12})\n",
    "\n",
    "ax.set_title('Average levels of Nitrogen Dioxide on Cardiff\\'s Newport Road over 24 hours')\n",
    "\n",
    "ax.set_ylim(bottom=0)\n",
    "ax.set_xlabel('Time | (source: DEFRA)')\n",
    "ax.set_ylabel('Micrograms of NO2 per cubed metre')\n",
    "plt.xticks(rotation = 'vertical')\n",
    "plt.show()"
   ]
  },
  {
   "cell_type": "code",
   "execution_count": null,
   "metadata": {},
   "outputs": [],
   "source": []
  },
  {
   "cell_type": "code",
   "execution_count": 362,
   "metadata": {},
   "outputs": [
    {
     "data": {
      "text/html": [
       "<div>\n",
       "<style scoped>\n",
       "    .dataframe tbody tr th:only-of-type {\n",
       "        vertical-align: middle;\n",
       "    }\n",
       "\n",
       "    .dataframe tbody tr th {\n",
       "        vertical-align: top;\n",
       "    }\n",
       "\n",
       "    .dataframe thead th {\n",
       "        text-align: right;\n",
       "    }\n",
       "</style>\n",
       "<table border=\"1\" class=\"dataframe\">\n",
       "  <thead>\n",
       "    <tr style=\"text-align: right;\">\n",
       "      <th></th>\n",
       "      <th>NR_NO2</th>\n",
       "      <th>wk_to1104_2020</th>\n",
       "      <th>wk_to1104_2019</th>\n",
       "    </tr>\n",
       "    <tr>\n",
       "      <th>time</th>\n",
       "      <th></th>\n",
       "      <th></th>\n",
       "      <th></th>\n",
       "    </tr>\n",
       "  </thead>\n",
       "  <tbody>\n",
       "    <tr>\n",
       "      <th>00:00:00</th>\n",
       "      <td>23.04</td>\n",
       "      <td>25.03</td>\n",
       "      <td>34.02</td>\n",
       "    </tr>\n",
       "    <tr>\n",
       "      <th>01:00:00</th>\n",
       "      <td>19.47</td>\n",
       "      <td>20.65</td>\n",
       "      <td>24.36</td>\n",
       "    </tr>\n",
       "  </tbody>\n",
       "</table>\n",
       "</div>"
      ],
      "text/plain": [
       "          NR_NO2  wk_to1104_2020  wk_to1104_2019\n",
       "time                                            \n",
       "00:00:00   23.04           25.03           34.02\n",
       "01:00:00   19.47           20.65           24.36"
      ]
     },
     "execution_count": 362,
     "metadata": {},
     "output_type": "execute_result"
    }
   ],
   "source": [
    "NR_daily[:2]"
   ]
  },
  {
   "cell_type": "code",
   "execution_count": 367,
   "metadata": {},
   "outputs": [
    {
     "name": "stdout",
     "output_type": "stream",
     "text": [
      "NR - average NO2 for YEAR ending April 11, 2020: 25.66 micrograms\n",
      "NR - average NO2 for week ending April 11, 2019: 39.81 micrograms\n",
      "NR - average NO2 for week ending April 11, 2020: 21.84 micrograms\n"
     ]
    }
   ],
   "source": [
    "print ('NR - average NO2 for YEAR ending April 11, 2020:', NR_daily.NR_NO2.mean().round(2), \"micrograms\")\n",
    "print ('NR - average NO2 for week ending April 11, 2019:', NR_daily.wk_to1104_2019.mean().round(2), \"micrograms\")\n",
    "print ('NR - average NO2 for week ending April 11, 2020:', NR_daily.wk_to1104_2020.mean().round(2), \"micrograms\")\n"
   ]
  },
  {
   "cell_type": "code",
   "execution_count": null,
   "metadata": {},
   "outputs": [],
   "source": []
  },
  {
   "cell_type": "code",
   "execution_count": null,
   "metadata": {},
   "outputs": [],
   "source": []
  },
  {
   "cell_type": "code",
   "execution_count": null,
   "metadata": {},
   "outputs": [],
   "source": []
  },
  {
   "cell_type": "code",
   "execution_count": null,
   "metadata": {},
   "outputs": [],
   "source": []
  },
  {
   "cell_type": "code",
   "execution_count": null,
   "metadata": {},
   "outputs": [],
   "source": []
  },
  {
   "cell_type": "markdown",
   "metadata": {},
   "source": [
    "# Reference"
   ]
  },
  {
   "cell_type": "code",
   "execution_count": 330,
   "metadata": {},
   "outputs": [],
   "source": [
    "# an import of NO2 data since April 2016 allows for resampling by week. No week - on average dips below 12.\n",
    "\n",
    "filename = '01042016_11042020_NO2_cdf_NR'\n",
    "path = f'/Users/aidanair/Documents/covid/wales_air_1204/{filename}.csv'\n",
    "old = pd.read_csv (path, skiprows = 3, header = [0, 1])\n",
    "old.columns = old.columns.droplevel(level = 0)\n",
    "old = old.iloc[:35328]\n",
    "old['Time'] = old['Time'].str.replace('24', '00')\n",
    "old['date_time'] = old['Date'] + ' ' + old['Time']\n",
    "old['Time'] = old['Time'].str.replace('24', '00')\n",
    "old['date_time'] = old['Date'] + ' ' + old['Time']\n",
    "old.date_time = pd.to_datetime(old.date_time)\n",
    "old = old.iloc[:,1:]\n",
    "cols = ['time', 'cardiff_NO2', 'cardiff_status', 'NR_NO2', 'NR_status', 'date_time']\n",
    "old.columns = cols\n",
    "old.cardiff_NO2 = pd.to_numeric(old.cardiff_NO2, errors = 'coerce')\n",
    "old.NR_NO2 = pd.to_numeric(old.NR_NO2, errors = 'coerce')\n",
    "old.set_index(old.date_time, inplace = True)"
   ]
  }
 ],
 "metadata": {
  "kernelspec": {
   "display_name": "Python 3",
   "language": "python",
   "name": "python3"
  },
  "language_info": {
   "codemirror_mode": {
    "name": "ipython",
    "version": 3
   },
   "file_extension": ".py",
   "mimetype": "text/x-python",
   "name": "python",
   "nbconvert_exporter": "python",
   "pygments_lexer": "ipython3",
   "version": "3.7.3"
  }
 },
 "nbformat": 4,
 "nbformat_minor": 2
}
